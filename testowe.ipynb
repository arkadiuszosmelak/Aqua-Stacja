{
 "metadata": {
  "language_info": {
   "codemirror_mode": {
    "name": "ipython",
    "version": 3
   },
   "file_extension": ".py",
   "mimetype": "text/x-python",
   "name": "python",
   "nbconvert_exporter": "python",
   "pygments_lexer": "ipython3",
   "version": 3
  },
  "orig_nbformat": 2,
  "kernelspec": {
   "name": "python_defaultSpec_1594986254471",
   "display_name": "Python 3.6.9 64-bit"
  }
 },
 "nbformat": 4,
 "nbformat_minor": 2,
 "cells": [
  {
   "cell_type": "code",
   "execution_count": 51,
   "metadata": {},
   "outputs": [
    {
     "output_type": "execute_result",
     "data": {
      "text/plain": "[8617,\n 8618,\n 8619,\n 8620,\n 8621,\n 8622,\n 8623,\n 8624,\n 8625,\n 8626,\n 8627,\n 8628,\n 8629,\n 8630,\n 8631,\n 8632,\n 8633,\n 8634,\n 8635,\n 8636,\n 8637,\n 8638,\n 8639,\n 8640]"
     },
     "metadata": {},
     "execution_count": 51
    }
   ],
   "source": [
    "lista = [i for i in range (1,8641)]\n",
    "lista[-24:] #ostatnie 2h"
   ]
  },
  {
   "cell_type": "code",
   "execution_count": 52,
   "metadata": {},
   "outputs": [
    {
     "output_type": "execute_result",
     "data": {
      "text/plain": "[8497,\n 8498,\n 8499,\n 8500,\n 8501,\n 8502,\n 8503,\n 8504,\n 8505,\n 8506,\n 8507,\n 8508,\n 8509,\n 8510,\n 8511,\n 8512,\n 8513,\n 8514,\n 8515,\n 8516,\n 8517,\n 8518,\n 8519,\n 8520,\n 8521,\n 8522,\n 8523,\n 8524,\n 8525,\n 8526,\n 8527,\n 8528,\n 8529,\n 8530,\n 8531,\n 8532,\n 8533,\n 8534,\n 8535,\n 8536,\n 8537,\n 8538,\n 8539,\n 8540,\n 8541,\n 8542,\n 8543,\n 8544,\n 8545,\n 8546,\n 8547,\n 8548,\n 8549,\n 8550,\n 8551,\n 8552,\n 8553,\n 8554,\n 8555,\n 8556,\n 8557,\n 8558,\n 8559,\n 8560,\n 8561,\n 8562,\n 8563,\n 8564,\n 8565,\n 8566,\n 8567,\n 8568,\n 8569,\n 8570,\n 8571,\n 8572,\n 8573,\n 8574,\n 8575,\n 8576,\n 8577,\n 8578,\n 8579,\n 8580,\n 8581,\n 8582,\n 8583,\n 8584,\n 8585,\n 8586,\n 8587,\n 8588,\n 8589,\n 8590,\n 8591,\n 8592,\n 8593,\n 8594,\n 8595,\n 8596,\n 8597,\n 8598,\n 8599,\n 8600,\n 8601,\n 8602,\n 8603,\n 8604,\n 8605,\n 8606,\n 8607,\n 8608,\n 8609,\n 8610,\n 8611,\n 8612,\n 8613,\n 8614,\n 8615,\n 8616,\n 8617,\n 8618,\n 8619,\n 8620,\n 8621,\n 8622,\n 8623,\n 8624,\n 8625,\n 8626,\n 8627,\n 8628,\n 8629,\n 8630,\n 8631,\n 8632,\n 8633,\n 8634,\n 8635,\n 8636,\n 8637,\n 8638,\n 8639,\n 8640]"
     },
     "metadata": {},
     "execution_count": 52
    }
   ],
   "source": [
    "lista[-144:]"
   ]
  }
 ]
}